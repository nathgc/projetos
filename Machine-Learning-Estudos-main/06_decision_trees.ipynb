{
  "cells": [
    {
      "cell_type": "markdown",
      "metadata": {
        "id": "view-in-github",
        "colab_type": "text"
      },
      "source": [
        "<a href=\"https://colab.research.google.com/github/nathgc/Machine-Learning-Estudos/blob/main/06_decision_trees.ipynb\" target=\"_parent\"><img src=\"https://colab.research.google.com/assets/colab-badge.svg\" alt=\"Open In Colab\"/></a>"
      ]
    },
    {
      "cell_type": "markdown",
      "metadata": {
        "id": "44y3o_XNTKNV"
      },
      "source": [
        "**Chapter 6 – Decision Trees**"
      ]
    },
    {
      "cell_type": "markdown",
      "metadata": {
        "id": "EIxFCdaLTKNb"
      },
      "source": [
        "_This notebook contains all the sample code and solutions to the exercises in chapter 6._"
      ]
    },
    {
      "cell_type": "markdown",
      "metadata": {
        "id": "Q8aeUjVHTKNc"
      },
      "source": [
        "<table align=\"left\">\n",
        "  <td>\n",
        "    <a href=\"https://colab.research.google.com/github/ageron/handson-ml3/blob/main/06_decision_trees.ipynb\" target=\"_parent\"><img src=\"https://colab.research.google.com/assets/colab-badge.svg\" alt=\"Open In Colab\"/></a>\n",
        "  </td>\n",
        "  <td>\n",
        "    <a target=\"_blank\" href=\"https://kaggle.com/kernels/welcome?src=https://github.com/ageron/handson-ml3/blob/main/06_decision_trees.ipynb\"><img src=\"https://kaggle.com/static/images/open-in-kaggle.svg\" /></a>\n",
        "  </td>\n",
        "</table>"
      ]
    },
    {
      "cell_type": "markdown",
      "metadata": {
        "tags": [],
        "id": "3wdpFdj-TKNd"
      },
      "source": [
        "# Setup"
      ]
    },
    {
      "cell_type": "markdown",
      "metadata": {
        "id": "tDsfIIzwTKNd"
      },
      "source": [
        "This project requires Python 3.7 or above:"
      ]
    },
    {
      "cell_type": "code",
      "execution_count": 1,
      "metadata": {
        "id": "0aEwEs2kTKNe"
      },
      "outputs": [],
      "source": [
        "# testando versão do python se ela é >= 3.7\n",
        "import sys\n",
        "\n",
        "assert sys.version_info >= (3, 7)"
      ]
    },
    {
      "cell_type": "markdown",
      "metadata": {
        "id": "_wfs3ATDTKNg"
      },
      "source": [
        "It also requires Scikit-Learn ≥ 1.0.1:"
      ]
    },
    {
      "cell_type": "code",
      "execution_count": 2,
      "metadata": {
        "id": "N5gpximoTKNh"
      },
      "outputs": [],
      "source": [
        "#testando versão scikit learn >= 1.0.1\n",
        "from packaging import version\n",
        "import sklearn\n",
        "\n",
        "assert version.parse(sklearn.__version__) >= version.parse(\"1.0.1\")"
      ]
    },
    {
      "cell_type": "markdown",
      "metadata": {
        "id": "LuQtpEMzTKNi"
      },
      "source": [
        "As we did in previous chapters, let's define the default font sizes to make the figures prettier:"
      ]
    },
    {
      "cell_type": "code",
      "execution_count": 3,
      "metadata": {
        "id": "T6HvrkrnTKNj"
      },
      "outputs": [],
      "source": [
        "import matplotlib.pyplot as plt\n",
        "\n",
        "#plt.rc define os padrões que serão usados para as figuras no notebook\n",
        "plt.rc('font', size=14)\n",
        "plt.rc('axes', labelsize=14, titlesize=14)\n",
        "plt.rc('legend', fontsize=14)\n",
        "plt.rc('xtick', labelsize=10)\n",
        "plt.rc('ytick', labelsize=10)"
      ]
    },
    {
      "cell_type": "markdown",
      "metadata": {
        "id": "v-pNr4VTTKNk"
      },
      "source": [
        "And let's create the `images/decision_trees` folder (if it doesn't already exist), and define the `save_fig()` function which is used through this notebook to save the figures in high-res for the book:"
      ]
    },
    {
      "cell_type": "code",
      "execution_count": 4,
      "metadata": {
        "id": "eKqOnIE3TKNl"
      },
      "outputs": [],
      "source": [
        "from pathlib import Path\n",
        "\n",
        "IMAGES_PATH = Path() / \"images\" / \"decision_trees\"\n",
        "IMAGES_PATH.mkdir(parents=True, exist_ok=True)\n",
        "\n",
        "def save_fig(fig_id, tight_layout=True, fig_extension=\"png\", resolution=300):\n",
        "    path = IMAGES_PATH / f\"{fig_id}.{fig_extension}\"\n",
        "    if tight_layout:\n",
        "        plt.tight_layout()\n",
        "    plt.savefig(path, format=fig_extension, dpi=resolution)"
      ]
    },
    {
      "cell_type": "markdown",
      "metadata": {
        "id": "ENrwbqtyTKNl"
      },
      "source": [
        "# Training and Visualizing a Decision Tree"
      ]
    },
    {
      "cell_type": "code",
      "execution_count": 5,
      "metadata": {
        "colab": {
          "base_uri": "https://localhost:8080/",
          "height": 74
        },
        "id": "NIVnoNUXTKNl",
        "outputId": "f29f1c5f-08c5-4d9e-95ef-364f08404eba"
      },
      "outputs": [
        {
          "output_type": "execute_result",
          "data": {
            "text/plain": [
              "DecisionTreeClassifier(max_depth=2, random_state=42)"
            ],
            "text/html": [
              "<style>#sk-container-id-1 {color: black;background-color: white;}#sk-container-id-1 pre{padding: 0;}#sk-container-id-1 div.sk-toggleable {background-color: white;}#sk-container-id-1 label.sk-toggleable__label {cursor: pointer;display: block;width: 100%;margin-bottom: 0;padding: 0.3em;box-sizing: border-box;text-align: center;}#sk-container-id-1 label.sk-toggleable__label-arrow:before {content: \"▸\";float: left;margin-right: 0.25em;color: #696969;}#sk-container-id-1 label.sk-toggleable__label-arrow:hover:before {color: black;}#sk-container-id-1 div.sk-estimator:hover label.sk-toggleable__label-arrow:before {color: black;}#sk-container-id-1 div.sk-toggleable__content {max-height: 0;max-width: 0;overflow: hidden;text-align: left;background-color: #f0f8ff;}#sk-container-id-1 div.sk-toggleable__content pre {margin: 0.2em;color: black;border-radius: 0.25em;background-color: #f0f8ff;}#sk-container-id-1 input.sk-toggleable__control:checked~div.sk-toggleable__content {max-height: 200px;max-width: 100%;overflow: auto;}#sk-container-id-1 input.sk-toggleable__control:checked~label.sk-toggleable__label-arrow:before {content: \"▾\";}#sk-container-id-1 div.sk-estimator input.sk-toggleable__control:checked~label.sk-toggleable__label {background-color: #d4ebff;}#sk-container-id-1 div.sk-label input.sk-toggleable__control:checked~label.sk-toggleable__label {background-color: #d4ebff;}#sk-container-id-1 input.sk-hidden--visually {border: 0;clip: rect(1px 1px 1px 1px);clip: rect(1px, 1px, 1px, 1px);height: 1px;margin: -1px;overflow: hidden;padding: 0;position: absolute;width: 1px;}#sk-container-id-1 div.sk-estimator {font-family: monospace;background-color: #f0f8ff;border: 1px dotted black;border-radius: 0.25em;box-sizing: border-box;margin-bottom: 0.5em;}#sk-container-id-1 div.sk-estimator:hover {background-color: #d4ebff;}#sk-container-id-1 div.sk-parallel-item::after {content: \"\";width: 100%;border-bottom: 1px solid gray;flex-grow: 1;}#sk-container-id-1 div.sk-label:hover label.sk-toggleable__label {background-color: #d4ebff;}#sk-container-id-1 div.sk-serial::before {content: \"\";position: absolute;border-left: 1px solid gray;box-sizing: border-box;top: 0;bottom: 0;left: 50%;z-index: 0;}#sk-container-id-1 div.sk-serial {display: flex;flex-direction: column;align-items: center;background-color: white;padding-right: 0.2em;padding-left: 0.2em;position: relative;}#sk-container-id-1 div.sk-item {position: relative;z-index: 1;}#sk-container-id-1 div.sk-parallel {display: flex;align-items: stretch;justify-content: center;background-color: white;position: relative;}#sk-container-id-1 div.sk-item::before, #sk-container-id-1 div.sk-parallel-item::before {content: \"\";position: absolute;border-left: 1px solid gray;box-sizing: border-box;top: 0;bottom: 0;left: 50%;z-index: -1;}#sk-container-id-1 div.sk-parallel-item {display: flex;flex-direction: column;z-index: 1;position: relative;background-color: white;}#sk-container-id-1 div.sk-parallel-item:first-child::after {align-self: flex-end;width: 50%;}#sk-container-id-1 div.sk-parallel-item:last-child::after {align-self: flex-start;width: 50%;}#sk-container-id-1 div.sk-parallel-item:only-child::after {width: 0;}#sk-container-id-1 div.sk-dashed-wrapped {border: 1px dashed gray;margin: 0 0.4em 0.5em 0.4em;box-sizing: border-box;padding-bottom: 0.4em;background-color: white;}#sk-container-id-1 div.sk-label label {font-family: monospace;font-weight: bold;display: inline-block;line-height: 1.2em;}#sk-container-id-1 div.sk-label-container {text-align: center;}#sk-container-id-1 div.sk-container {/* jupyter's `normalize.less` sets `[hidden] { display: none; }` but bootstrap.min.css set `[hidden] { display: none !important; }` so we also need the `!important` here to be able to override the default hidden behavior on the sphinx rendered scikit-learn.org. See: https://github.com/scikit-learn/scikit-learn/issues/21755 */display: inline-block !important;position: relative;}#sk-container-id-1 div.sk-text-repr-fallback {display: none;}</style><div id=\"sk-container-id-1\" class=\"sk-top-container\"><div class=\"sk-text-repr-fallback\"><pre>DecisionTreeClassifier(max_depth=2, random_state=42)</pre><b>In a Jupyter environment, please rerun this cell to show the HTML representation or trust the notebook. <br />On GitHub, the HTML representation is unable to render, please try loading this page with nbviewer.org.</b></div><div class=\"sk-container\" hidden><div class=\"sk-item\"><div class=\"sk-estimator sk-toggleable\"><input class=\"sk-toggleable__control sk-hidden--visually\" id=\"sk-estimator-id-1\" type=\"checkbox\" checked><label for=\"sk-estimator-id-1\" class=\"sk-toggleable__label sk-toggleable__label-arrow\">DecisionTreeClassifier</label><div class=\"sk-toggleable__content\"><pre>DecisionTreeClassifier(max_depth=2, random_state=42)</pre></div></div></div></div></div>"
            ]
          },
          "metadata": {},
          "execution_count": 5
        }
      ],
      "source": [
        "#importa o dataset com os dados sobre as espécies de flores\n",
        "from sklearn.datasets import load_iris\n",
        "#Importa o classificador Árvore de decisão\n",
        "from sklearn.tree import DecisionTreeClassifier\n",
        "\n",
        "#salvando dados como um pandas dataframe usando as_frame=True\n",
        "iris = load_iris(as_frame=True)\n",
        "\n",
        "#salvando os atributos dataframe de comprimento largura das pétalas e transformando em um array com .values\n",
        "X_iris = iris.data[[\"petal length (cm)\", \"petal width (cm)\"]].values\n",
        "#atribuindo os rótulos a um series\n",
        "y_iris = iris.target\n",
        "\n",
        "#max_depth profundidade máxima da árvore\n",
        "tree_clf = DecisionTreeClassifier(max_depth=2, random_state=42)\n",
        "#treinando o modelo\n",
        "tree_clf.fit(X_iris, y_iris)"
      ]
    },
    {
      "cell_type": "code",
      "source": [
        "y_iris"
      ],
      "metadata": {
        "id": "jgOYmjsuZ27I",
        "outputId": "547706a2-2865-4d0e-acce-a01cbf36ebce",
        "colab": {
          "base_uri": "https://localhost:8080/"
        }
      },
      "execution_count": 6,
      "outputs": [
        {
          "output_type": "execute_result",
          "data": {
            "text/plain": [
              "0      0\n",
              "1      0\n",
              "2      0\n",
              "3      0\n",
              "4      0\n",
              "      ..\n",
              "145    2\n",
              "146    2\n",
              "147    2\n",
              "148    2\n",
              "149    2\n",
              "Name: target, Length: 150, dtype: int64"
            ]
          },
          "metadata": {},
          "execution_count": 6
        }
      ]
    },
    {
      "cell_type": "markdown",
      "metadata": {
        "id": "ygk8bRy1TKNm"
      },
      "source": [
        "**This code example generates Figure 6–1. Iris Decision Tree:**"
      ]
    },
    {
      "cell_type": "code",
      "execution_count": 7,
      "metadata": {
        "id": "rISTNX7qTKNm"
      },
      "outputs": [],
      "source": [
        "from sklearn.tree import export_graphviz\n",
        "\n",
        "export_graphviz(\n",
        "        tree_clf,\n",
        "        out_file=str(IMAGES_PATH / \"iris_tree.dot\"),  # path differs in the book\n",
        "        feature_names=[\"petal length (cm)\", \"petal width (cm)\"],\n",
        "        class_names=iris.target_names,\n",
        "        rounded=True,\n",
        "        filled=True\n",
        "    )"
      ]
    },
    {
      "cell_type": "code",
      "execution_count": 8,
      "metadata": {
        "colab": {
          "base_uri": "https://localhost:8080/",
          "height": 440
        },
        "id": "R4QkxOPKTKNn",
        "outputId": "b89fe491-7498-45d8-a932-3dbab31d697e"
      },
      "outputs": [
        {
          "output_type": "execute_result",
          "data": {
            "image/svg+xml": "<?xml version=\"1.0\" encoding=\"UTF-8\" standalone=\"no\"?>\n<!DOCTYPE svg PUBLIC \"-//W3C//DTD SVG 1.1//EN\"\n \"http://www.w3.org/Graphics/SVG/1.1/DTD/svg11.dtd\">\n<!-- Generated by graphviz version 2.43.0 (0)\n -->\n<!-- Title: Tree Pages: 1 -->\n<svg width=\"351pt\" height=\"314pt\"\n viewBox=\"0.00 0.00 351.00 314.00\" xmlns=\"http://www.w3.org/2000/svg\" xmlns:xlink=\"http://www.w3.org/1999/xlink\">\n<g id=\"graph0\" class=\"graph\" transform=\"scale(1 1) rotate(0) translate(4 310)\">\n<title>Tree</title>\n<polygon fill=\"white\" stroke=\"transparent\" points=\"-4,4 -4,-310 347,-310 347,4 -4,4\"/>\n<!-- 0 -->\n<g id=\"node1\" class=\"node\">\n<title>0</title>\n<path fill=\"#ffffff\" stroke=\"black\" d=\"M209.5,-306C209.5,-306 65.5,-306 65.5,-306 59.5,-306 53.5,-300 53.5,-294 53.5,-294 53.5,-235 53.5,-235 53.5,-229 59.5,-223 65.5,-223 65.5,-223 209.5,-223 209.5,-223 215.5,-223 221.5,-229 221.5,-235 221.5,-235 221.5,-294 221.5,-294 221.5,-300 215.5,-306 209.5,-306\"/>\n<text text-anchor=\"middle\" x=\"137.5\" y=\"-290.8\" font-family=\"Helvetica,sans-Serif\" font-size=\"14.00\">petal length (cm) &lt;= 2.45</text>\n<text text-anchor=\"middle\" x=\"137.5\" y=\"-275.8\" font-family=\"Helvetica,sans-Serif\" font-size=\"14.00\">gini = 0.667</text>\n<text text-anchor=\"middle\" x=\"137.5\" y=\"-260.8\" font-family=\"Helvetica,sans-Serif\" font-size=\"14.00\">samples = 150</text>\n<text text-anchor=\"middle\" x=\"137.5\" y=\"-245.8\" font-family=\"Helvetica,sans-Serif\" font-size=\"14.00\">value = [50, 50, 50]</text>\n<text text-anchor=\"middle\" x=\"137.5\" y=\"-230.8\" font-family=\"Helvetica,sans-Serif\" font-size=\"14.00\">class = setosa</text>\n</g>\n<!-- 1 -->\n<g id=\"node2\" class=\"node\">\n<title>1</title>\n<path fill=\"#e58139\" stroke=\"black\" d=\"M105,-179.5C105,-179.5 12,-179.5 12,-179.5 6,-179.5 0,-173.5 0,-167.5 0,-167.5 0,-123.5 0,-123.5 0,-117.5 6,-111.5 12,-111.5 12,-111.5 105,-111.5 105,-111.5 111,-111.5 117,-117.5 117,-123.5 117,-123.5 117,-167.5 117,-167.5 117,-173.5 111,-179.5 105,-179.5\"/>\n<text text-anchor=\"middle\" x=\"58.5\" y=\"-164.3\" font-family=\"Helvetica,sans-Serif\" font-size=\"14.00\">gini = 0.0</text>\n<text text-anchor=\"middle\" x=\"58.5\" y=\"-149.3\" font-family=\"Helvetica,sans-Serif\" font-size=\"14.00\">samples = 50</text>\n<text text-anchor=\"middle\" x=\"58.5\" y=\"-134.3\" font-family=\"Helvetica,sans-Serif\" font-size=\"14.00\">value = [50, 0, 0]</text>\n<text text-anchor=\"middle\" x=\"58.5\" y=\"-119.3\" font-family=\"Helvetica,sans-Serif\" font-size=\"14.00\">class = setosa</text>\n</g>\n<!-- 0&#45;&gt;1 -->\n<g id=\"edge1\" class=\"edge\">\n<title>0&#45;&gt;1</title>\n<path fill=\"none\" stroke=\"black\" d=\"M110.09,-222.91C102.49,-211.65 94.23,-199.42 86.59,-188.11\"/>\n<polygon fill=\"black\" stroke=\"black\" points=\"89.39,-186 80.89,-179.67 83.59,-189.91 89.39,-186\"/>\n<text text-anchor=\"middle\" x=\"76.14\" y=\"-200.51\" font-family=\"Helvetica,sans-Serif\" font-size=\"14.00\">True</text>\n</g>\n<!-- 2 -->\n<g id=\"node3\" class=\"node\">\n<title>2</title>\n<path fill=\"#ffffff\" stroke=\"black\" d=\"M286,-187C286,-187 147,-187 147,-187 141,-187 135,-181 135,-175 135,-175 135,-116 135,-116 135,-110 141,-104 147,-104 147,-104 286,-104 286,-104 292,-104 298,-110 298,-116 298,-116 298,-175 298,-175 298,-181 292,-187 286,-187\"/>\n<text text-anchor=\"middle\" x=\"216.5\" y=\"-171.8\" font-family=\"Helvetica,sans-Serif\" font-size=\"14.00\">petal width (cm) &lt;= 1.75</text>\n<text text-anchor=\"middle\" x=\"216.5\" y=\"-156.8\" font-family=\"Helvetica,sans-Serif\" font-size=\"14.00\">gini = 0.5</text>\n<text text-anchor=\"middle\" x=\"216.5\" y=\"-141.8\" font-family=\"Helvetica,sans-Serif\" font-size=\"14.00\">samples = 100</text>\n<text text-anchor=\"middle\" x=\"216.5\" y=\"-126.8\" font-family=\"Helvetica,sans-Serif\" font-size=\"14.00\">value = [0, 50, 50]</text>\n<text text-anchor=\"middle\" x=\"216.5\" y=\"-111.8\" font-family=\"Helvetica,sans-Serif\" font-size=\"14.00\">class = versicolor</text>\n</g>\n<!-- 0&#45;&gt;2 -->\n<g id=\"edge2\" class=\"edge\">\n<title>0&#45;&gt;2</title>\n<path fill=\"none\" stroke=\"black\" d=\"M164.91,-222.91C170.91,-214.01 177.33,-204.51 183.53,-195.33\"/>\n<polygon fill=\"black\" stroke=\"black\" points=\"186.44,-197.27 189.14,-187.02 180.64,-193.35 186.44,-197.27\"/>\n<text text-anchor=\"middle\" x=\"193.9\" y=\"-207.86\" font-family=\"Helvetica,sans-Serif\" font-size=\"14.00\">False</text>\n</g>\n<!-- 3 -->\n<g id=\"node4\" class=\"node\">\n<title>3</title>\n<path fill=\"#4de88e\" stroke=\"black\" d=\"M196,-68C196,-68 99,-68 99,-68 93,-68 87,-62 87,-56 87,-56 87,-12 87,-12 87,-6 93,0 99,0 99,0 196,0 196,0 202,0 208,-6 208,-12 208,-12 208,-56 208,-56 208,-62 202,-68 196,-68\"/>\n<text text-anchor=\"middle\" x=\"147.5\" y=\"-52.8\" font-family=\"Helvetica,sans-Serif\" font-size=\"14.00\">gini = 0.168</text>\n<text text-anchor=\"middle\" x=\"147.5\" y=\"-37.8\" font-family=\"Helvetica,sans-Serif\" font-size=\"14.00\">samples = 54</text>\n<text text-anchor=\"middle\" x=\"147.5\" y=\"-22.8\" font-family=\"Helvetica,sans-Serif\" font-size=\"14.00\">value = [0, 49, 5]</text>\n<text text-anchor=\"middle\" x=\"147.5\" y=\"-7.8\" font-family=\"Helvetica,sans-Serif\" font-size=\"14.00\">class = versicolor</text>\n</g>\n<!-- 2&#45;&gt;3 -->\n<g id=\"edge3\" class=\"edge\">\n<title>2&#45;&gt;3</title>\n<path fill=\"none\" stroke=\"black\" d=\"M190.81,-103.73C185.29,-94.97 179.45,-85.7 173.91,-76.91\"/>\n<polygon fill=\"black\" stroke=\"black\" points=\"176.78,-74.89 168.48,-68.3 170.85,-78.63 176.78,-74.89\"/>\n</g>\n<!-- 4 -->\n<g id=\"node5\" class=\"node\">\n<title>4</title>\n<path fill=\"#843de6\" stroke=\"black\" d=\"M331,-68C331,-68 238,-68 238,-68 232,-68 226,-62 226,-56 226,-56 226,-12 226,-12 226,-6 232,0 238,0 238,0 331,0 331,0 337,0 343,-6 343,-12 343,-12 343,-56 343,-56 343,-62 337,-68 331,-68\"/>\n<text text-anchor=\"middle\" x=\"284.5\" y=\"-52.8\" font-family=\"Helvetica,sans-Serif\" font-size=\"14.00\">gini = 0.043</text>\n<text text-anchor=\"middle\" x=\"284.5\" y=\"-37.8\" font-family=\"Helvetica,sans-Serif\" font-size=\"14.00\">samples = 46</text>\n<text text-anchor=\"middle\" x=\"284.5\" y=\"-22.8\" font-family=\"Helvetica,sans-Serif\" font-size=\"14.00\">value = [0, 1, 45]</text>\n<text text-anchor=\"middle\" x=\"284.5\" y=\"-7.8\" font-family=\"Helvetica,sans-Serif\" font-size=\"14.00\">class = virginica</text>\n</g>\n<!-- 2&#45;&gt;4 -->\n<g id=\"edge4\" class=\"edge\">\n<title>2&#45;&gt;4</title>\n<path fill=\"none\" stroke=\"black\" d=\"M241.82,-103.73C247.26,-94.97 253.01,-85.7 258.48,-76.91\"/>\n<polygon fill=\"black\" stroke=\"black\" points=\"261.52,-78.64 263.82,-68.3 255.57,-74.95 261.52,-78.64\"/>\n</g>\n</g>\n</svg>\n",
            "text/plain": [
              "<graphviz.sources.Source at 0x7dea8067bcd0>"
            ]
          },
          "metadata": {},
          "execution_count": 8
        }
      ],
      "source": [
        "from graphviz import Source\n",
        "\n",
        "Source.from_file(IMAGES_PATH / \"iris_tree.dot\")  # path differs in the book"
      ]
    },
    {
      "cell_type": "markdown",
      "metadata": {
        "id": "zwJqzNfNTKNn"
      },
      "source": [
        "Graphviz also provides the `dot` command line tool to convert `.dot` files to a variety of formats. The following command converts the dot file to a png image:"
      ]
    },
    {
      "cell_type": "code",
      "execution_count": 9,
      "metadata": {
        "id": "nYfxtfOfTKNn"
      },
      "outputs": [],
      "source": [
        "# extra code\n",
        "!dot -Tpng {IMAGES_PATH / \"iris_tree.dot\"} -o {IMAGES_PATH / \"iris_tree.png\"}"
      ]
    },
    {
      "cell_type": "markdown",
      "metadata": {
        "id": "wPsiNoPETKNo"
      },
      "source": [
        "# Making Predictions"
      ]
    },
    {
      "cell_type": "code",
      "execution_count": 10,
      "metadata": {
        "colab": {
          "base_uri": "https://localhost:8080/",
          "height": 395
        },
        "id": "AGSRizu5TKNo",
        "outputId": "b596c25b-2613-461e-8518-eea828f4d44d"
      },
      "outputs": [
        {
          "output_type": "display_data",
          "data": {
            "text/plain": [
              "<Figure size 800x400 with 1 Axes>"
            ],
            "image/png": "[encoded data removed]"
          },
          "metadata": {}
        }
      ],
      "source": [
        "import numpy as np\n",
        "import matplotlib.pyplot as plt\n",
        "\n",
        "# extra code – just formatting details\n",
        "from matplotlib.colors import ListedColormap\n",
        "custom_cmap = ListedColormap(['#fafab0', '#9898ff', '#a0faa0'])\n",
        "plt.figure(figsize=(8, 4))\n",
        "\n",
        "lengths, widths = np.meshgrid(np.linspace(0, 7.2, 100), np.linspace(0, 3, 100))\n",
        "X_iris_all = np.c_[lengths.ravel(), widths.ravel()]\n",
        "y_pred = tree_clf.predict(X_iris_all).reshape(lengths.shape)\n",
        "plt.contourf(lengths, widths, y_pred, alpha=0.3, cmap=custom_cmap)\n",
        "for idx, (name, style) in enumerate(zip(iris.target_names, (\"yo\", \"bs\", \"g^\"))):\n",
        "    plt.plot(X_iris[:, 0][y_iris == idx], X_iris[:, 1][y_iris == idx],\n",
        "             style, label=f\"Iris {name}\")\n",
        "\n",
        "# extra code – this section beautifies and saves Figure 6–2\n",
        "tree_clf_deeper = DecisionTreeClassifier(max_depth=3, random_state=42)\n",
        "tree_clf_deeper.fit(X_iris, y_iris)\n",
        "th0, th1, th2a, th2b = tree_clf_deeper.tree_.threshold[[0, 2, 3, 6]]\n",
        "plt.xlabel(\"Petal length (cm)\")\n",
        "plt.ylabel(\"Petal width (cm)\")\n",
        "plt.plot([th0, th0], [0, 3], \"k-\", linewidth=2)\n",
        "plt.plot([th0, 7.2], [th1, th1], \"k--\", linewidth=2)\n",
        "plt.plot([th2a, th2a], [0, th1], \"k:\", linewidth=2)\n",
        "plt.plot([th2b, th2b], [th1, 3], \"k:\", linewidth=2)\n",
        "plt.text(th0 - 0.05, 1.0, \"Depth=0\", horizontalalignment=\"right\", fontsize=15)\n",
        "plt.text(3.2, th1 + 0.02, \"Depth=1\", verticalalignment=\"bottom\", fontsize=13)\n",
        "plt.text(th2a + 0.05, 0.5, \"(Depth=2)\", fontsize=11)\n",
        "plt.axis([0, 7.2, 0, 3])\n",
        "plt.legend()\n",
        "save_fig(\"decision_tree_decision_boundaries_plot\")\n",
        "\n",
        "plt.show()"
      ]
    },
    {
      "cell_type": "markdown",
      "metadata": {
        "id": "8y8FrxJGTKNo"
      },
      "source": [
        "You can access the tree structure via the `tree_` attribute:"
      ]
    },
    {
      "cell_type": "code",
      "execution_count": 11,
      "metadata": {
        "colab": {
          "base_uri": "https://localhost:8080/"
        },
        "id": "XIGyjxSxTKNo",
        "outputId": "a76869a3-d743-4482-bb72-3d7fbbc16f14"
      },
      "outputs": [
        {
          "output_type": "execute_result",
          "data": {
            "text/plain": [
              "<sklearn.tree._tree.Tree at 0x7dea8078dae0>"
            ]
          },
          "metadata": {},
          "execution_count": 11
        }
      ],
      "source": [
        "tree_clf.tree_"
      ]
    },
    {
      "cell_type": "markdown",
      "metadata": {
        "id": "Y33LknUATKNp"
      },
      "source": [
        "For more information, check out this class's documentation:"
      ]
    },
    {
      "cell_type": "code",
      "execution_count": 12,
      "metadata": {
        "tags": [],
        "id": "EnuohTVtTKNp"
      },
      "outputs": [],
      "source": [
        "# help(sklearn.tree._tree.Tree)"
      ]
    },
    {
      "cell_type": "markdown",
      "metadata": {
        "id": "8lP9cYF_TKNp"
      },
      "source": [
        "See the extra material section below for an example."
      ]
    },
    {
      "cell_type": "markdown",
      "metadata": {
        "id": "DfUd8YHbTKNp"
      },
      "source": [
        "# Estimating Class Probabilities"
      ]
    },
    {
      "cell_type": "code",
      "execution_count": null,
      "metadata": {
        "id": "qIpuUtBKTKNp",
        "outputId": "e57d5a8a-3c02-4832-c908-8cb7db7992e9"
      },
      "outputs": [
        {
          "data": {
            "text/plain": [
              "array([[0.   , 0.907, 0.093]])"
            ]
          },
          "execution_count": 12,
          "metadata": {},
          "output_type": "execute_result"
        }
      ],
      "source": [
        "tree_clf.predict_proba([[5, 1.5]]).round(3)"
      ]
    },
    {
      "cell_type": "code",
      "execution_count": null,
      "metadata": {
        "id": "4HWqxXGRTKNp",
        "outputId": "8c83ec5f-ba87-460e-8538-c9a7bb1e39d3"
      },
      "outputs": [
        {
          "data": {
            "text/plain": [
              "array([1])"
            ]
          },
          "execution_count": 13,
          "metadata": {},
          "output_type": "execute_result"
        }
      ],
      "source": [
        "tree_clf.predict([[5, 1.5]])"
      ]
    },
    {
      "cell_type": "markdown",
      "metadata": {
        "id": "n74sQSt9TKNq"
      },
      "source": [
        "# Regularization Hyperparameters"
      ]
    },
    {
      "cell_type": "code",
      "execution_count": null,
      "metadata": {
        "id": "-8ScqlE1TKNq",
        "outputId": "6d9cd4b7-5f27-42b9-c946-bb859102b4be"
      },
      "outputs": [
        {
          "data": {
            "text/plain": [
              "DecisionTreeClassifier(min_samples_leaf=5, random_state=42)"
            ]
          },
          "execution_count": 14,
          "metadata": {},
          "output_type": "execute_result"
        }
      ],
      "source": [
        "from sklearn.datasets import make_moons\n",
        "\n",
        "X_moons, y_moons = make_moons(n_samples=150, noise=0.2, random_state=42)\n",
        "\n",
        "tree_clf1 = DecisionTreeClassifier(random_state=42)\n",
        "tree_clf2 = DecisionTreeClassifier(min_samples_leaf=5, random_state=42)\n",
        "tree_clf1.fit(X_moons, y_moons)\n",
        "tree_clf2.fit(X_moons, y_moons)"
      ]
    },
    {
      "cell_type": "code",
      "execution_count": null,
      "metadata": {
        "id": "sfJgfp-jTKNq",
        "outputId": "a56a863c-8860-4589-b351-7535269b8d3e"
      },
      "outputs": [
        {
          "data": {
            "image/png": "[encoded data removed]",
            "text/plain": [
              "<Figure size 720x288 with 2 Axes>"
            ]
          },
          "metadata": {
            "needs_background": "light"
          },
          "output_type": "display_data"
        }
      ],
      "source": [
        "# extra code – this cell generates and saves Figure 6–3\n",
        "\n",
        "def plot_decision_boundary(clf, X, y, axes, cmap):\n",
        "    x1, x2 = np.meshgrid(np.linspace(axes[0], axes[1], 100),\n",
        "                         np.linspace(axes[2], axes[3], 100))\n",
        "    X_new = np.c_[x1.ravel(), x2.ravel()]\n",
        "    y_pred = clf.predict(X_new).reshape(x1.shape)\n",
        "\n",
        "    plt.contourf(x1, x2, y_pred, alpha=0.3, cmap=cmap)\n",
        "    plt.contour(x1, x2, y_pred, cmap=\"Greys\", alpha=0.8)\n",
        "    colors = {\"Wistia\": [\"#78785c\", \"#c47b27\"], \"Pastel1\": [\"red\", \"blue\"]}\n",
        "    markers = (\"o\", \"^\")\n",
        "    for idx in (0, 1):\n",
        "        plt.plot(X[:, 0][y == idx], X[:, 1][y == idx],\n",
        "                 color=colors[cmap][idx], marker=markers[idx], linestyle=\"none\")\n",
        "    plt.axis(axes)\n",
        "    plt.xlabel(r\"$x_1$\")\n",
        "    plt.ylabel(r\"$x_2$\", rotation=0)\n",
        "\n",
        "fig, axes = plt.subplots(ncols=2, figsize=(10, 4), sharey=True)\n",
        "plt.sca(axes[0])\n",
        "plot_decision_boundary(tree_clf1, X_moons, y_moons,\n",
        "                       axes=[-1.5, 2.4, -1, 1.5], cmap=\"Wistia\")\n",
        "plt.title(\"No restrictions\")\n",
        "plt.sca(axes[1])\n",
        "plot_decision_boundary(tree_clf2, X_moons, y_moons,\n",
        "                       axes=[-1.5, 2.4, -1, 1.5], cmap=\"Wistia\")\n",
        "plt.title(f\"min_samples_leaf = {tree_clf2.min_samples_leaf}\")\n",
        "plt.ylabel(\"\")\n",
        "save_fig(\"min_samples_leaf_plot\")\n",
        "plt.show()"
      ]
    },
    {
      "cell_type": "code",
      "execution_count": null,
      "metadata": {
        "id": "PrgA5nGwTKNq",
        "outputId": "f625c7d8-ad15-491b-f4bc-0d0782a82943"
      },
      "outputs": [
        {
          "data": {
            "text/plain": [
              "0.898"
            ]
          },
          "execution_count": 16,
          "metadata": {},
          "output_type": "execute_result"
        }
      ],
      "source": [
        "X_moons_test, y_moons_test = make_moons(n_samples=1000, noise=0.2,\n",
        "                                        random_state=43)\n",
        "tree_clf1.score(X_moons_test, y_moons_test)"
      ]
    },
    {
      "cell_type": "code",
      "execution_count": null,
      "metadata": {
        "id": "iBCVCRCOTKNr",
        "outputId": "806ecbd8-624b-401f-cc35-f318a7cdee10"
      },
      "outputs": [
        {
          "data": {
            "text/plain": [
              "0.92"
            ]
          },
          "execution_count": 17,
          "metadata": {},
          "output_type": "execute_result"
        }
      ],
      "source": [
        "tree_clf2.score(X_moons_test, y_moons_test)"
      ]
    },
    {
      "cell_type": "markdown",
      "metadata": {
        "id": "ZETOO8KxTKNr"
      },
      "source": [
        "# Regression"
      ]
    },
    {
      "cell_type": "markdown",
      "metadata": {
        "id": "czaj5C8NTKNr"
      },
      "source": [
        "Let's prepare a simple quadratic training set:"
      ]
    },
    {
      "cell_type": "markdown",
      "metadata": {
        "id": "zbk15M5STKNr"
      },
      "source": [
        "**Code example:**"
      ]
    },
    {
      "cell_type": "code",
      "execution_count": null,
      "metadata": {
        "id": "JbxFS0dITKNr",
        "outputId": "6583d1fc-3cb5-41b5-976f-4109f2e7ce35"
      },
      "outputs": [
        {
          "data": {
            "text/plain": [
              "DecisionTreeRegressor(max_depth=2, random_state=42)"
            ]
          },
          "execution_count": 18,
          "metadata": {},
          "output_type": "execute_result"
        }
      ],
      "source": [
        "from sklearn.tree import DecisionTreeRegressor\n",
        "\n",
        "np.random.seed(42)\n",
        "X_quad = np.random.rand(200, 1) - 0.5  # a single random input feature\n",
        "y_quad = X_quad ** 2 + 0.025 * np.random.randn(200, 1)\n",
        "\n",
        "tree_reg = DecisionTreeRegressor(max_depth=2, random_state=42)\n",
        "tree_reg.fit(X_quad, y_quad)"
      ]
    },
    {
      "cell_type": "code",
      "execution_count": null,
      "metadata": {
        "id": "KuPnmkX3TKNs",
        "outputId": "9f4de493-2f0e-4b77-f5c4-74c03e5b80b6"
      },
      "outputs": [
        {
          "data": {
            "image/svg+xml": [
              "<?xml version=\"1.0\" encoding=\"UTF-8\" standalone=\"no\"?>\n",
              "<!DOCTYPE svg PUBLIC \"-//W3C//DTD SVG 1.1//EN\"\n",
              " \"http://www.w3.org/Graphics/SVG/1.1/DTD/svg11.dtd\">\n",
              "<!-- Generated by graphviz version 2.49.1 (0)\n",
              " -->\n",
              "<!-- Title: Tree Pages: 1 -->\n",
              "<svg width=\"682pt\" height=\"269pt\"\n",
              " viewBox=\"0.00 0.00 682.00 269.00\" xmlns=\"http://www.w3.org/2000/svg\" xmlns:xlink=\"http://www.w3.org/1999/xlink\">\n",
              "<g id=\"graph0\" class=\"graph\" transform=\"scale(1 1) rotate(0) translate(4 265)\">\n",
              "<title>Tree</title>\n",
              "<polygon fill=\"white\" stroke=\"transparent\" points=\"-4,4 -4,-265 678,-265 678,4 -4,4\"/>\n",
              "<!-- 0 -->\n",
              "<g id=\"node1\" class=\"node\">\n",
              "<title>0</title>\n",
              "<path fill=\"#f6d6be\" stroke=\"black\" d=\"M402,-261C402,-261 271,-261 271,-261 265,-261 259,-255 259,-249 259,-249 259,-205 259,-205 259,-199 265,-193 271,-193 271,-193 402,-193 402,-193 408,-193 414,-199 414,-205 414,-205 414,-249 414,-249 414,-255 408,-261 402,-261\"/>\n",
              "<text text-anchor=\"middle\" x=\"336.5\" y=\"-245.8\" font-family=\"Helvetica,sans-Serif\" font-size=\"14.00\">x1 &lt;= &#45;0.303</text>\n",
              "<text text-anchor=\"middle\" x=\"336.5\" y=\"-230.8\" font-family=\"Helvetica,sans-Serif\" font-size=\"14.00\">squared_error = 0.006</text>\n",
              "<text text-anchor=\"middle\" x=\"336.5\" y=\"-215.8\" font-family=\"Helvetica,sans-Serif\" font-size=\"14.00\">samples = 200</text>\n",
              "<text text-anchor=\"middle\" x=\"336.5\" y=\"-200.8\" font-family=\"Helvetica,sans-Serif\" font-size=\"14.00\">value = 0.088</text>\n",
              "</g>\n",
              "<!-- 1 -->\n",
              "<g id=\"node2\" class=\"node\">\n",
              "<title>1</title>\n",
              "<path fill=\"#eb9d65\" stroke=\"black\" d=\"M316,-157C316,-157 185,-157 185,-157 179,-157 173,-151 173,-145 173,-145 173,-101 173,-101 173,-95 179,-89 185,-89 185,-89 316,-89 316,-89 322,-89 328,-95 328,-101 328,-101 328,-145 328,-145 328,-151 322,-157 316,-157\"/>\n",
              "<text text-anchor=\"middle\" x=\"250.5\" y=\"-141.8\" font-family=\"Helvetica,sans-Serif\" font-size=\"14.00\">x1 &lt;= &#45;0.408</text>\n",
              "<text text-anchor=\"middle\" x=\"250.5\" y=\"-126.8\" font-family=\"Helvetica,sans-Serif\" font-size=\"14.00\">squared_error = 0.002</text>\n",
              "<text text-anchor=\"middle\" x=\"250.5\" y=\"-111.8\" font-family=\"Helvetica,sans-Serif\" font-size=\"14.00\">samples = 44</text>\n",
              "<text text-anchor=\"middle\" x=\"250.5\" y=\"-96.8\" font-family=\"Helvetica,sans-Serif\" font-size=\"14.00\">value = 0.172</text>\n",
              "</g>\n",
              "<!-- 0&#45;&gt;1 -->\n",
              "<g id=\"edge1\" class=\"edge\">\n",
              "<title>0&#45;&gt;1</title>\n",
              "<path fill=\"none\" stroke=\"black\" d=\"M308.58,-192.88C301.07,-183.98 292.86,-174.24 285.03,-164.96\"/>\n",
              "<polygon fill=\"black\" stroke=\"black\" points=\"287.7,-162.69 278.58,-157.3 282.35,-167.2 287.7,-162.69\"/>\n",
              "<text text-anchor=\"middle\" x=\"276.46\" y=\"-178.51\" font-family=\"Helvetica,sans-Serif\" font-size=\"14.00\">True</text>\n",
              "</g>\n",
              "<!-- 4 -->\n",
              "<g id=\"node5\" class=\"node\">\n",
              "<title>4</title>\n",
              "<path fill=\"#fae6d7\" stroke=\"black\" d=\"M489,-157C489,-157 358,-157 358,-157 352,-157 346,-151 346,-145 346,-145 346,-101 346,-101 346,-95 352,-89 358,-89 358,-89 489,-89 489,-89 495,-89 501,-95 501,-101 501,-101 501,-145 501,-145 501,-151 495,-157 489,-157\"/>\n",
              "<text text-anchor=\"middle\" x=\"423.5\" y=\"-141.8\" font-family=\"Helvetica,sans-Serif\" font-size=\"14.00\">x1 &lt;= 0.272</text>\n",
              "<text text-anchor=\"middle\" x=\"423.5\" y=\"-126.8\" font-family=\"Helvetica,sans-Serif\" font-size=\"14.00\">squared_error = 0.005</text>\n",
              "<text text-anchor=\"middle\" x=\"423.5\" y=\"-111.8\" font-family=\"Helvetica,sans-Serif\" font-size=\"14.00\">samples = 156</text>\n",
              "<text text-anchor=\"middle\" x=\"423.5\" y=\"-96.8\" font-family=\"Helvetica,sans-Serif\" font-size=\"14.00\">value = 0.065</text>\n",
              "</g>\n",
              "<!-- 0&#45;&gt;4 -->\n",
              "<g id=\"edge4\" class=\"edge\">\n",
              "<title>0&#45;&gt;4</title>\n",
              "<path fill=\"none\" stroke=\"black\" d=\"M364.75,-192.88C372.34,-183.98 380.65,-174.24 388.57,-164.96\"/>\n",
              "<polygon fill=\"black\" stroke=\"black\" points=\"391.27,-167.18 395.1,-157.3 385.95,-162.64 391.27,-167.18\"/>\n",
              "<text text-anchor=\"middle\" x=\"397.08\" y=\"-178.52\" font-family=\"Helvetica,sans-Serif\" font-size=\"14.00\">False</text>\n",
              "</g>\n",
              "<!-- 2 -->\n",
              "<g id=\"node3\" class=\"node\">\n",
              "<title>2</title>\n",
              "<path fill=\"#e58139\" stroke=\"black\" d=\"M143,-53C143,-53 12,-53 12,-53 6,-53 0,-47 0,-41 0,-41 0,-12 0,-12 0,-6 6,0 12,0 12,0 143,0 143,0 149,0 155,-6 155,-12 155,-12 155,-41 155,-41 155,-47 149,-53 143,-53\"/>\n",
              "<text text-anchor=\"middle\" x=\"77.5\" y=\"-37.8\" font-family=\"Helvetica,sans-Serif\" font-size=\"14.00\">squared_error = 0.001</text>\n",
              "<text text-anchor=\"middle\" x=\"77.5\" y=\"-22.8\" font-family=\"Helvetica,sans-Serif\" font-size=\"14.00\">samples = 20</text>\n",
              "<text text-anchor=\"middle\" x=\"77.5\" y=\"-7.8\" font-family=\"Helvetica,sans-Serif\" font-size=\"14.00\">value = 0.213</text>\n",
              "</g>\n",
              "<!-- 1&#45;&gt;2 -->\n",
              "<g id=\"edge2\" class=\"edge\">\n",
              "<title>1&#45;&gt;2</title>\n",
              "<path fill=\"none\" stroke=\"black\" d=\"M189.99,-88.95C171.66,-78.93 151.6,-67.98 133.57,-58.13\"/>\n",
              "<polygon fill=\"black\" stroke=\"black\" points=\"134.8,-54.81 124.34,-53.09 131.44,-60.95 134.8,-54.81\"/>\n",
              "</g>\n",
              "<!-- 3 -->\n",
              "<g id=\"node4\" class=\"node\">\n",
              "<title>3</title>\n",
              "<path fill=\"#f0b489\" stroke=\"black\" d=\"M316,-53C316,-53 185,-53 185,-53 179,-53 173,-47 173,-41 173,-41 173,-12 173,-12 173,-6 179,0 185,0 185,0 316,0 316,0 322,0 328,-6 328,-12 328,-12 328,-41 328,-41 328,-47 322,-53 316,-53\"/>\n",
              "<text text-anchor=\"middle\" x=\"250.5\" y=\"-37.8\" font-family=\"Helvetica,sans-Serif\" font-size=\"14.00\">squared_error = 0.001</text>\n",
              "<text text-anchor=\"middle\" x=\"250.5\" y=\"-22.8\" font-family=\"Helvetica,sans-Serif\" font-size=\"14.00\">samples = 24</text>\n",
              "<text text-anchor=\"middle\" x=\"250.5\" y=\"-7.8\" font-family=\"Helvetica,sans-Serif\" font-size=\"14.00\">value = 0.138</text>\n",
              "</g>\n",
              "<!-- 1&#45;&gt;3 -->\n",
              "<g id=\"edge3\" class=\"edge\">\n",
              "<title>1&#45;&gt;3</title>\n",
              "<path fill=\"none\" stroke=\"black\" d=\"M250.5,-88.95C250.5,-80.72 250.5,-71.85 250.5,-63.48\"/>\n",
              "<polygon fill=\"black\" stroke=\"black\" points=\"254,-63.24 250.5,-53.24 247,-63.24 254,-63.24\"/>\n",
              "</g>\n",
              "<!-- 5 -->\n",
              "<g id=\"node6\" class=\"node\">\n",
              "<title>5</title>\n",
              "<path fill=\"#ffffff\" stroke=\"black\" d=\"M489,-53C489,-53 358,-53 358,-53 352,-53 346,-47 346,-41 346,-41 346,-12 346,-12 346,-6 352,0 358,0 358,0 489,0 489,0 495,0 501,-6 501,-12 501,-12 501,-41 501,-41 501,-47 495,-53 489,-53\"/>\n",
              "<text text-anchor=\"middle\" x=\"423.5\" y=\"-37.8\" font-family=\"Helvetica,sans-Serif\" font-size=\"14.00\">squared_error = 0.001</text>\n",
              "<text text-anchor=\"middle\" x=\"423.5\" y=\"-22.8\" font-family=\"Helvetica,sans-Serif\" font-size=\"14.00\">samples = 110</text>\n",
              "<text text-anchor=\"middle\" x=\"423.5\" y=\"-7.8\" font-family=\"Helvetica,sans-Serif\" font-size=\"14.00\">value = 0.028</text>\n",
              "</g>\n",
              "<!-- 4&#45;&gt;5 -->\n",
              "<g id=\"edge5\" class=\"edge\">\n",
              "<title>4&#45;&gt;5</title>\n",
              "<path fill=\"none\" stroke=\"black\" d=\"M423.5,-88.95C423.5,-80.72 423.5,-71.85 423.5,-63.48\"/>\n",
              "<polygon fill=\"black\" stroke=\"black\" points=\"427,-63.24 423.5,-53.24 420,-63.24 427,-63.24\"/>\n",
              "</g>\n",
              "<!-- 6 -->\n",
              "<g id=\"node7\" class=\"node\">\n",
              "<title>6</title>\n",
              "<path fill=\"#edaa79\" stroke=\"black\" d=\"M662,-53C662,-53 531,-53 531,-53 525,-53 519,-47 519,-41 519,-41 519,-12 519,-12 519,-6 525,0 531,0 531,0 662,0 662,0 668,0 674,-6 674,-12 674,-12 674,-41 674,-41 674,-47 668,-53 662,-53\"/>\n",
              "<text text-anchor=\"middle\" x=\"596.5\" y=\"-37.8\" font-family=\"Helvetica,sans-Serif\" font-size=\"14.00\">squared_error = 0.002</text>\n",
              "<text text-anchor=\"middle\" x=\"596.5\" y=\"-22.8\" font-family=\"Helvetica,sans-Serif\" font-size=\"14.00\">samples = 46</text>\n",
              "<text text-anchor=\"middle\" x=\"596.5\" y=\"-7.8\" font-family=\"Helvetica,sans-Serif\" font-size=\"14.00\">value = 0.154</text>\n",
              "</g>\n",
              "<!-- 4&#45;&gt;6 -->\n",
              "<g id=\"edge6\" class=\"edge\">\n",
              "<title>4&#45;&gt;6</title>\n",
              "<path fill=\"none\" stroke=\"black\" d=\"M484.01,-88.95C502.34,-78.93 522.4,-67.98 540.43,-58.13\"/>\n",
              "<polygon fill=\"black\" stroke=\"black\" points=\"542.56,-60.95 549.66,-53.09 539.2,-54.81 542.56,-60.95\"/>\n",
              "</g>\n",
              "</g>\n",
              "</svg>\n"
            ],
            "text/plain": [
              "<graphviz.files.Source at 0x7fbfb925c760>"
            ]
          },
          "execution_count": 19,
          "metadata": {},
          "output_type": "execute_result"
        }
      ],
      "source": [
        "# extra code – we've already seen how to use export_graphviz()\n",
        "export_graphviz(\n",
        "    tree_reg,\n",
        "    out_file=str(IMAGES_PATH / \"regression_tree.dot\"),\n",
        "    feature_names=[\"x1\"],\n",
        "    rounded=True,\n",
        "    filled=True\n",
        ")\n",
        "Source.from_file(IMAGES_PATH / \"regression_tree.dot\")"
      ]
    },
    {
      "cell_type": "code",
      "execution_count": null,
      "metadata": {
        "id": "_GeTLjBNTKNy",
        "outputId": "1137ee7e-816a-47a2-d4e2-4527f37a01dc"
      },
      "outputs": [
        {
          "data": {
            "text/plain": [
              "DecisionTreeRegressor(max_depth=3, random_state=42)"
            ]
          },
          "execution_count": 20,
          "metadata": {},
          "output_type": "execute_result"
        }
      ],
      "source": [
        "tree_reg2 = DecisionTreeRegressor(max_depth=3, random_state=42)\n",
        "tree_reg2.fit(X_quad, y_quad)"
      ]
    },
    {
      "cell_type": "code",
      "execution_count": null,
      "metadata": {
        "id": "pvMYUP-6TKNz",
        "outputId": "9b31778b-3ed6-48e3-8314-8237858faa94"
      },
      "outputs": [
        {
          "data": {
            "text/plain": [
              "array([-0.30265072, -0.40830374, -2.        , -2.        ,  0.27175756,\n",
              "       -2.        , -2.        ])"
            ]
          },
          "execution_count": 21,
          "metadata": {},
          "output_type": "execute_result"
        }
      ],
      "source": [
        "tree_reg.tree_.threshold"
      ]
    },
    {
      "cell_type": "code",
      "execution_count": null,
      "metadata": {
        "id": "QkyWyioMTKNz",
        "outputId": "340f8f9a-7f43-4ced-b94a-2ef9e20ba161"
      },
      "outputs": [
        {
          "data": {
            "text/plain": [
              "array([-0.30265072, -0.40830374, -0.45416115, -2.        , -2.        ,\n",
              "       -0.37022041, -2.        , -2.        ,  0.27175756, -0.21270403,\n",
              "       -2.        , -2.        ,  0.40399227, -2.        , -2.        ])"
            ]
          },
          "execution_count": 22,
          "metadata": {},
          "output_type": "execute_result"
        }
      ],
      "source": [
        "tree_reg2.tree_.threshold"
      ]
    },
    {
      "cell_type": "code",
      "execution_count": null,
      "metadata": {
        "id": "UsDaKSnmTKNz",
        "outputId": "1491812b-13d7-4d7f-af02-387e8018b8cd"
      },
      "outputs": [
        {
          "data": {
            "image/png": "[encoded data removed]",
            "text/plain": [
              "<Figure size 720x288 with 2 Axes>"
            ]
          },
          "metadata": {
            "needs_background": "light"
          },
          "output_type": "display_data"
        }
      ],
      "source": [
        "# extra code – this cell generates and saves Figure 6–5\n",
        "\n",
        "def plot_regression_predictions(tree_reg, X, y, axes=[-0.5, 0.5, -0.05, 0.25]):\n",
        "    x1 = np.linspace(axes[0], axes[1], 500).reshape(-1, 1)\n",
        "    y_pred = tree_reg.predict(x1)\n",
        "    plt.axis(axes)\n",
        "    plt.xlabel(\"$x_1$\")\n",
        "    plt.plot(X, y, \"b.\")\n",
        "    plt.plot(x1, y_pred, \"r.-\", linewidth=2, label=r\"$\\hat{y}$\")\n",
        "\n",
        "fig, axes = plt.subplots(ncols=2, figsize=(10, 4), sharey=True)\n",
        "plt.sca(axes[0])\n",
        "plot_regression_predictions(tree_reg, X_quad, y_quad)\n",
        "\n",
        "th0, th1a, th1b = tree_reg.tree_.threshold[[0, 1, 4]]\n",
        "for split, style in ((th0, \"k-\"), (th1a, \"k--\"), (th1b, \"k--\")):\n",
        "    plt.plot([split, split], [-0.05, 0.25], style, linewidth=2)\n",
        "plt.text(th0, 0.16, \"Depth=0\", fontsize=15)\n",
        "plt.text(th1a + 0.01, -0.01, \"Depth=1\", horizontalalignment=\"center\", fontsize=13)\n",
        "plt.text(th1b + 0.01, -0.01, \"Depth=1\", fontsize=13)\n",
        "plt.ylabel(\"$y$\", rotation=0)\n",
        "plt.legend(loc=\"upper center\", fontsize=16)\n",
        "plt.title(\"max_depth=2\")\n",
        "\n",
        "plt.sca(axes[1])\n",
        "th2s = tree_reg2.tree_.threshold[[2, 5, 9, 12]]\n",
        "plot_regression_predictions(tree_reg2, X_quad, y_quad)\n",
        "for split, style in ((th0, \"k-\"), (th1a, \"k--\"), (th1b, \"k--\")):\n",
        "    plt.plot([split, split], [-0.05, 0.25], style, linewidth=2)\n",
        "for split in th2s:\n",
        "    plt.plot([split, split], [-0.05, 0.25], \"k:\", linewidth=1)\n",
        "plt.text(th2s[2] + 0.01, 0.15, \"Depth=2\", fontsize=13)\n",
        "plt.title(\"max_depth=3\")\n",
        "\n",
        "save_fig(\"tree_regression_plot\")\n",
        "plt.show()"
      ]
    },
    {
      "cell_type": "code",
      "execution_count": null,
      "metadata": {
        "id": "Nsp0DG-2TKNz",
        "outputId": "325d87cc-4e2e-465c-ce2b-563b782e1d50"
      },
      "outputs": [
        {
          "data": {
            "image/png": "[encoded data removed]",
            "text/plain": [
              "<Figure size 720x288 with 2 Axes>"
            ]
          },
          "metadata": {
            "needs_background": "light"
          },
          "output_type": "display_data"
        }
      ],
      "source": [
        "# extra code – this cell generates and saves Figure 6–6\n",
        "\n",
        "tree_reg1 = DecisionTreeRegressor(random_state=42)\n",
        "tree_reg2 = DecisionTreeRegressor(random_state=42, min_samples_leaf=10)\n",
        "tree_reg1.fit(X_quad, y_quad)\n",
        "tree_reg2.fit(X_quad, y_quad)\n",
        "\n",
        "x1 = np.linspace(-0.5, 0.5, 500).reshape(-1, 1)\n",
        "y_pred1 = tree_reg1.predict(x1)\n",
        "y_pred2 = tree_reg2.predict(x1)\n",
        "\n",
        "fig, axes = plt.subplots(ncols=2, figsize=(10, 4), sharey=True)\n",
        "\n",
        "plt.sca(axes[0])\n",
        "plt.plot(X_quad, y_quad, \"b.\")\n",
        "plt.plot(x1, y_pred1, \"r.-\", linewidth=2, label=r\"$\\hat{y}$\")\n",
        "plt.axis([-0.5, 0.5, -0.05, 0.25])\n",
        "plt.xlabel(\"$x_1$\")\n",
        "plt.ylabel(\"$y$\", rotation=0)\n",
        "plt.legend(loc=\"upper center\")\n",
        "plt.title(\"No restrictions\")\n",
        "\n",
        "plt.sca(axes[1])\n",
        "plt.plot(X_quad, y_quad, \"b.\")\n",
        "plt.plot(x1, y_pred2, \"r.-\", linewidth=2, label=r\"$\\hat{y}$\")\n",
        "plt.axis([-0.5, 0.5, -0.05, 0.25])\n",
        "plt.xlabel(\"$x_1$\")\n",
        "plt.title(f\"min_samples_leaf={tree_reg2.min_samples_leaf}\")\n",
        "\n",
        "save_fig(\"tree_regression_regularization_plot\")\n",
        "plt.show()"
      ]
    },
    {
      "cell_type": "markdown",
      "metadata": {
        "id": "YchBQGeNTKN0"
      },
      "source": [
        "# Sensitivity to axis orientation"
      ]
    },
    {
      "cell_type": "markdown",
      "metadata": {
        "id": "U2HHbhkSTKN0"
      },
      "source": [
        "Rotating the dataset also leads to completely different decision boundaries:"
      ]
    },
    {
      "cell_type": "code",
      "execution_count": null,
      "metadata": {
        "id": "s-CTMZgbTKN1",
        "outputId": "01771f80-a4ef-4d32-d968-30deacdd885d"
      },
      "outputs": [
        {
          "data": {
            "image/png": "[encoded data removed]",
            "text/plain": [
              "<Figure size 720x288 with 2 Axes>"
            ]
          },
          "metadata": {
            "needs_background": "light"
          },
          "output_type": "display_data"
        }
      ],
      "source": [
        "# extra code – this cell generates and saves Figure 6–7\n",
        "\n",
        "np.random.seed(6)\n",
        "X_square = np.random.rand(100, 2) - 0.5\n",
        "y_square = (X_square[:, 0] > 0).astype(np.int64)\n",
        "\n",
        "angle = np.pi / 4  # 45 degrees\n",
        "rotation_matrix = np.array([[np.cos(angle), -np.sin(angle)],\n",
        "                            [np.sin(angle), np.cos(angle)]])\n",
        "X_rotated_square = X_square.dot(rotation_matrix)\n",
        "\n",
        "tree_clf_square = DecisionTreeClassifier(random_state=42)\n",
        "tree_clf_square.fit(X_square, y_square)\n",
        "tree_clf_rotated_square = DecisionTreeClassifier(random_state=42)\n",
        "tree_clf_rotated_square.fit(X_rotated_square, y_square)\n",
        "\n",
        "fig, axes = plt.subplots(ncols=2, figsize=(10, 4), sharey=True)\n",
        "plt.sca(axes[0])\n",
        "plot_decision_boundary(tree_clf_square, X_square, y_square,\n",
        "                       axes=[-0.7, 0.7, -0.7, 0.7], cmap=\"Pastel1\")\n",
        "plt.sca(axes[1])\n",
        "plot_decision_boundary(tree_clf_rotated_square, X_rotated_square, y_square,\n",
        "                       axes=[-0.7, 0.7, -0.7, 0.7], cmap=\"Pastel1\")\n",
        "plt.ylabel(\"\")\n",
        "\n",
        "save_fig(\"sensitivity_to_rotation_plot\")\n",
        "plt.show()"
      ]
    },
    {
      "cell_type": "code",
      "execution_count": null,
      "metadata": {
        "id": "6ggLEEoWTKN1",
        "outputId": "436b411e-a1d9-4603-9508-abbf60e6bcfa"
      },
      "outputs": [
        {
          "data": {
            "text/plain": [
              "DecisionTreeClassifier(max_depth=2, random_state=42)"
            ]
          },
          "execution_count": 26,
          "metadata": {},
          "output_type": "execute_result"
        }
      ],
      "source": [
        "from sklearn.decomposition import PCA\n",
        "from sklearn.pipeline import make_pipeline\n",
        "from sklearn.preprocessing import StandardScaler\n",
        "\n",
        "pca_pipeline = make_pipeline(StandardScaler(), PCA())\n",
        "X_iris_rotated = pca_pipeline.fit_transform(X_iris)\n",
        "tree_clf_pca = DecisionTreeClassifier(max_depth=2, random_state=42)\n",
        "tree_clf_pca.fit(X_iris_rotated, y_iris)"
      ]
    },
    {
      "cell_type": "code",
      "execution_count": null,
      "metadata": {
        "id": "75zdaMkrTKN2",
        "outputId": "d094cd3f-ba41-42ed-e4d2-a61e096f48d7"
      },
      "outputs": [
        {
          "data": {
            "image/png": "[encoded data removed]",
            "text/plain": [
              "<Figure size 576x288 with 1 Axes>"
            ]
          },
          "metadata": {
            "needs_background": "light"
          },
          "output_type": "display_data"
        }
      ],
      "source": [
        "# extra code – this cell generates and saves Figure 6–8\n",
        "\n",
        "plt.figure(figsize=(8, 4))\n",
        "\n",
        "axes = [-2.2, 2.4, -0.6, 0.7]\n",
        "z0s, z1s = np.meshgrid(np.linspace(axes[0], axes[1], 100),\n",
        "                       np.linspace(axes[2], axes[3], 100))\n",
        "X_iris_pca_all = np.c_[z0s.ravel(), z1s.ravel()]\n",
        "y_pred = tree_clf_pca.predict(X_iris_pca_all).reshape(z0s.shape)\n",
        "\n",
        "plt.contourf(z0s, z1s, y_pred, alpha=0.3, cmap=custom_cmap)\n",
        "for idx, (name, style) in enumerate(zip(iris.target_names, (\"yo\", \"bs\", \"g^\"))):\n",
        "    plt.plot(X_iris_rotated[:, 0][y_iris == idx],\n",
        "             X_iris_rotated[:, 1][y_iris == idx],\n",
        "             style, label=f\"Iris {name}\")\n",
        "\n",
        "plt.xlabel(\"$z_1$\")\n",
        "plt.ylabel(\"$z_2$\", rotation=0)\n",
        "th1, th2 = tree_clf_pca.tree_.threshold[[0, 2]]\n",
        "plt.plot([th1, th1], axes[2:], \"k-\", linewidth=2)\n",
        "plt.plot([th2, th2], axes[2:], \"k--\", linewidth=2)\n",
        "plt.text(th1 - 0.01, axes[2] + 0.05, \"Depth=0\",\n",
        "         horizontalalignment=\"right\", fontsize=15)\n",
        "plt.text(th2 - 0.01, axes[2] + 0.05, \"Depth=1\",\n",
        "         horizontalalignment=\"right\", fontsize=13)\n",
        "plt.axis(axes)\n",
        "plt.legend(loc=(0.32, 0.67))\n",
        "save_fig(\"pca_preprocessing_plot\")\n",
        "\n",
        "plt.show()"
      ]
    },
    {
      "cell_type": "markdown",
      "metadata": {
        "id": "gGVrUBekTKN2"
      },
      "source": [
        "# Decision Trees Have High Variance"
      ]
    },
    {
      "cell_type": "markdown",
      "metadata": {
        "id": "fTXkeRI_TKN3"
      },
      "source": [
        "We've seen that small changes in the dataset (such as a rotation) may produce a very different Decision Tree.\n",
        "Now let's show that training the same model on the same data may produce a very different model every time, since the CART training algorithm used by Scikit-Learn is stochastic. To show this, we will set `random_state` to a different value than earlier:"
      ]
    },
    {
      "cell_type": "code",
      "execution_count": null,
      "metadata": {
        "id": "-WDzj3s9TKN3",
        "outputId": "b348b69f-d14d-4a5e-9581-8f7fda65a52c"
      },
      "outputs": [
        {
          "data": {
            "text/plain": [
              "DecisionTreeClassifier(max_depth=2, random_state=40)"
            ]
          },
          "execution_count": 28,
          "metadata": {},
          "output_type": "execute_result"
        }
      ],
      "source": [
        "tree_clf_tweaked = DecisionTreeClassifier(max_depth=2, random_state=40)\n",
        "tree_clf_tweaked.fit(X_iris, y_iris)"
      ]
    },
    {
      "cell_type": "code",
      "execution_count": null,
      "metadata": {
        "id": "l7kinhfKTKN3",
        "outputId": "edc6d4c1-70f6-4e06-c045-2cb439f56bb0"
      },
      "outputs": [
        {
          "data": {
            "image/png": "[encoded data removed]",
            "text/plain": [
              "<Figure size 576x288 with 1 Axes>"
            ]
          },
          "metadata": {
            "needs_background": "light"
          },
          "output_type": "display_data"
        }
      ],
      "source": [
        "# extra code – this cell generates and saves Figure 6–9\n",
        "\n",
        "plt.figure(figsize=(8, 4))\n",
        "y_pred = tree_clf_tweaked.predict(X_iris_all).reshape(lengths.shape)\n",
        "plt.contourf(lengths, widths, y_pred, alpha=0.3, cmap=custom_cmap)\n",
        "\n",
        "for idx, (name, style) in enumerate(zip(iris.target_names, (\"yo\", \"bs\", \"g^\"))):\n",
        "    plt.plot(X_iris[:, 0][y_iris == idx], X_iris[:, 1][y_iris == idx],\n",
        "             style, label=f\"Iris {name}\")\n",
        "\n",
        "th0, th1 = tree_clf_tweaked.tree_.threshold[[0, 2]]\n",
        "plt.plot([0, 7.2], [th0, th0], \"k-\", linewidth=2)\n",
        "plt.plot([0, 7.2], [th1, th1], \"k--\", linewidth=2)\n",
        "plt.text(1.8, th0 + 0.05, \"Depth=0\", verticalalignment=\"bottom\", fontsize=15)\n",
        "plt.text(2.3, th1 + 0.05, \"Depth=1\", verticalalignment=\"bottom\", fontsize=13)\n",
        "plt.xlabel(\"Petal length (cm)\")\n",
        "plt.ylabel(\"Petal width (cm)\")\n",
        "plt.axis([0, 7.2, 0, 3])\n",
        "plt.legend()\n",
        "save_fig(\"decision_tree_high_variance_plot\")\n",
        "\n",
        "plt.show()"
      ]
    },
    {
      "cell_type": "markdown",
      "metadata": {
        "id": "eklqL-ybTKN5"
      },
      "source": [
        "# Extra Material – Accessing the tree structure"
      ]
    },
    {
      "cell_type": "markdown",
      "metadata": {
        "id": "FYqeWwIaTKN6"
      },
      "source": [
        "A trained `DecisionTreeClassifier` has a `tree_` attribute that stores the tree's structure:"
      ]
    },
    {
      "cell_type": "code",
      "execution_count": null,
      "metadata": {
        "id": "mwpWXhQUTKN6",
        "outputId": "afb096c0-cb49-467e-db6c-dd9f9edcbbee"
      },
      "outputs": [
        {
          "data": {
            "text/plain": [
              "<sklearn.tree._tree.Tree at 0x7fbfa8b563b0>"
            ]
          },
          "execution_count": 30,
          "metadata": {},
          "output_type": "execute_result"
        }
      ],
      "source": [
        "tree = tree_clf.tree_\n",
        "tree"
      ]
    },
    {
      "cell_type": "markdown",
      "metadata": {
        "id": "oL3hbW2ITKN6"
      },
      "source": [
        "You can get the total number of nodes in the tree:"
      ]
    },
    {
      "cell_type": "code",
      "execution_count": null,
      "metadata": {
        "id": "A4BPRV8VTKN7",
        "outputId": "dcabd33c-f059-4b95-bca5-3c5dd91dc27b"
      },
      "outputs": [
        {
          "data": {
            "text/plain": [
              "5"
            ]
          },
          "execution_count": 31,
          "metadata": {},
          "output_type": "execute_result"
        }
      ],
      "source": [
        "tree.node_count"
      ]
    },
    {
      "cell_type": "markdown",
      "metadata": {
        "id": "Xw7iJx3ITKN7"
      },
      "source": [
        "And other self-explanatory attributes are available:"
      ]
    },
    {
      "cell_type": "code",
      "execution_count": null,
      "metadata": {
        "id": "N4n_ZduUTKN7",
        "outputId": "8b33f485-8eb2-43ee-a735-df589bfd3791"
      },
      "outputs": [
        {
          "data": {
            "text/plain": [
              "2"
            ]
          },
          "execution_count": 32,
          "metadata": {},
          "output_type": "execute_result"
        }
      ],
      "source": [
        "tree.max_depth"
      ]
    },
    {
      "cell_type": "code",
      "execution_count": null,
      "metadata": {
        "id": "OaZ3uhlsTKN8",
        "outputId": "3d823c43-7473-45d7-abb9-2f17bbc214f1"
      },
      "outputs": [
        {
          "data": {
            "text/plain": [
              "3"
            ]
          },
          "execution_count": 33,
          "metadata": {},
          "output_type": "execute_result"
        }
      ],
      "source": [
        "tree.max_n_classes"
      ]
    },
    {
      "cell_type": "code",
      "execution_count": null,
      "metadata": {
        "id": "KlOu3ySiTKN8",
        "outputId": "fb3905d4-b98d-4914-9f7b-0de6739b7ebe"
      },
      "outputs": [
        {
          "data": {
            "text/plain": [
              "2"
            ]
          },
          "execution_count": 34,
          "metadata": {},
          "output_type": "execute_result"
        }
      ],
      "source": [
        "tree.n_features"
      ]
    },
    {
      "cell_type": "code",
      "execution_count": null,
      "metadata": {
        "id": "zqtvCqHHTKN8",
        "outputId": "bc7f509b-2429-471b-86eb-7d2297f06861"
      },
      "outputs": [
        {
          "data": {
            "text/plain": [
              "1"
            ]
          },
          "execution_count": 35,
          "metadata": {},
          "output_type": "execute_result"
        }
      ],
      "source": [
        "tree.n_outputs"
      ]
    },
    {
      "cell_type": "code",
      "execution_count": null,
      "metadata": {
        "id": "fkR7O7GtTKN9",
        "outputId": "1ef2211a-f6df-4e9f-a9f5-f14aa78cd665"
      },
      "outputs": [
        {
          "data": {
            "text/plain": [
              "3"
            ]
          },
          "execution_count": 36,
          "metadata": {},
          "output_type": "execute_result"
        }
      ],
      "source": [
        "tree.n_leaves"
      ]
    },
    {
      "cell_type": "markdown",
      "metadata": {
        "id": "5sGbOvVXTKN9"
      },
      "source": [
        "All the information about the nodes is stored in NumPy arrays. For example, the impurity of each node:"
      ]
    },
    {
      "cell_type": "code",
      "execution_count": null,
      "metadata": {
        "id": "UEJBdA6zTKN-",
        "outputId": "91e53a0e-6336-4089-d3bf-e559f7424f24"
      },
      "outputs": [
        {
          "data": {
            "text/plain": [
              "array([0.66666667, 0.        , 0.5       , 0.16803841, 0.04253308])"
            ]
          },
          "execution_count": 37,
          "metadata": {},
          "output_type": "execute_result"
        }
      ],
      "source": [
        "tree.impurity"
      ]
    },
    {
      "cell_type": "markdown",
      "metadata": {
        "id": "8vQLZR0JTKN-"
      },
      "source": [
        "The root node is at index 0. The left and right children nodes of node _i_ are `tree.children_left[i]` and `tree.children_right[i]`. For example, the children of the root node are:"
      ]
    },
    {
      "cell_type": "code",
      "execution_count": null,
      "metadata": {
        "id": "lqwYks2LTKN-",
        "outputId": "68b7d0c4-ff79-41ea-ea00-142cbffd16bd"
      },
      "outputs": [
        {
          "data": {
            "text/plain": [
              "(1, 2)"
            ]
          },
          "execution_count": 38,
          "metadata": {},
          "output_type": "execute_result"
        }
      ],
      "source": [
        "tree.children_left[0], tree.children_right[0]"
      ]
    },
    {
      "cell_type": "markdown",
      "metadata": {
        "id": "80WmEMq2TKN_"
      },
      "source": [
        "When the left and right nodes are equal, it means this is a leaf node (and the children node ids are arbitrary):"
      ]
    },
    {
      "cell_type": "code",
      "execution_count": null,
      "metadata": {
        "id": "GPJctyghTKN_",
        "outputId": "d3e08c49-4da6-4572-99f6-a8d352412bf4"
      },
      "outputs": [
        {
          "data": {
            "text/plain": [
              "(-1, -1)"
            ]
          },
          "execution_count": 39,
          "metadata": {},
          "output_type": "execute_result"
        }
      ],
      "source": [
        "tree.children_left[3], tree.children_right[3]"
      ]
    },
    {
      "cell_type": "markdown",
      "metadata": {
        "id": "PmRFJq6tTKN_"
      },
      "source": [
        "So you can get the leaf node ids like this:"
      ]
    },
    {
      "cell_type": "code",
      "execution_count": null,
      "metadata": {
        "id": "6zYUCE2_TKN_",
        "outputId": "8bed9305-89c2-4e8a-cd64-bc63c4c40bd3"
      },
      "outputs": [
        {
          "data": {
            "text/plain": [
              "array([1, 3, 4])"
            ]
          },
          "execution_count": 40,
          "metadata": {},
          "output_type": "execute_result"
        }
      ],
      "source": [
        "is_leaf = (tree.children_left == tree.children_right)\n",
        "np.arange(tree.node_count)[is_leaf]"
      ]
    },
    {
      "cell_type": "markdown",
      "metadata": {
        "id": "u21WkqlxTKOA"
      },
      "source": [
        "Non-leaf nodes are called _split nodes_. The feature they split is available via the `feature` array. Values for leaf nodes should be ignored:"
      ]
    },
    {
      "cell_type": "code",
      "execution_count": null,
      "metadata": {
        "id": "QFAz9R5bTKOA",
        "outputId": "185316d4-bc35-4f3b-eeb3-64f9646dfb9f"
      },
      "outputs": [
        {
          "data": {
            "text/plain": [
              "array([ 0, -2,  1, -2, -2], dtype=int64)"
            ]
          },
          "execution_count": 41,
          "metadata": {},
          "output_type": "execute_result"
        }
      ],
      "source": [
        "tree.feature"
      ]
    },
    {
      "cell_type": "markdown",
      "metadata": {
        "id": "kUrjNpgwTKOA"
      },
      "source": [
        "And the corresponding thresholds are:"
      ]
    },
    {
      "cell_type": "code",
      "execution_count": null,
      "metadata": {
        "id": "ntVAFWZITKOB",
        "outputId": "0a27dd8c-eeeb-41f8-82c9-be59df523382"
      },
      "outputs": [
        {
          "data": {
            "text/plain": [
              "array([ 2.44999999, -2.        ,  1.75      , -2.        , -2.        ])"
            ]
          },
          "execution_count": 42,
          "metadata": {},
          "output_type": "execute_result"
        }
      ],
      "source": [
        "tree.threshold"
      ]
    },
    {
      "cell_type": "markdown",
      "metadata": {
        "id": "W08mjugSTKOB"
      },
      "source": [
        "And the number of instances per class that reached each node is available too:"
      ]
    },
    {
      "cell_type": "code",
      "execution_count": null,
      "metadata": {
        "id": "Nup_STYqTKOB",
        "outputId": "1ca35157-d7a7-400c-eb6c-0b00834c0b9c"
      },
      "outputs": [
        {
          "data": {
            "text/plain": [
              "array([[[50., 50., 50.]],\n",
              "\n",
              "       [[50.,  0.,  0.]],\n",
              "\n",
              "       [[ 0., 50., 50.]],\n",
              "\n",
              "       [[ 0., 49.,  5.]],\n",
              "\n",
              "       [[ 0.,  1., 45.]]])"
            ]
          },
          "execution_count": 43,
          "metadata": {},
          "output_type": "execute_result"
        }
      ],
      "source": [
        "tree.value"
      ]
    },
    {
      "cell_type": "code",
      "execution_count": null,
      "metadata": {
        "id": "qGgk2U-oTKOC",
        "outputId": "66f3f7f5-86cb-4e64-f77c-c45c561b5887"
      },
      "outputs": [
        {
          "data": {
            "text/plain": [
              "array([150,  50, 100,  54,  46], dtype=int64)"
            ]
          },
          "execution_count": 44,
          "metadata": {},
          "output_type": "execute_result"
        }
      ],
      "source": [
        "tree.n_node_samples"
      ]
    },
    {
      "cell_type": "code",
      "execution_count": null,
      "metadata": {
        "id": "hjJxjsPATKOC",
        "outputId": "53ef79cd-4212-4703-8e28-d715a6efd15a"
      },
      "outputs": [
        {
          "data": {
            "text/plain": [
              "True"
            ]
          },
          "execution_count": 45,
          "metadata": {},
          "output_type": "execute_result"
        }
      ],
      "source": [
        "np.all(tree.value.sum(axis=(1, 2)) == tree.n_node_samples)"
      ]
    },
    {
      "cell_type": "markdown",
      "metadata": {
        "id": "a5bLt1eoTKOC"
      },
      "source": [
        "Here's how you can compute the depth of each node:"
      ]
    },
    {
      "cell_type": "code",
      "execution_count": null,
      "metadata": {
        "id": "DMc1-HyUTKOD",
        "outputId": "48dfb332-f3ca-4fd8-c21e-f3cc1e1112c3"
      },
      "outputs": [
        {
          "data": {
            "text/plain": [
              "array([0., 1., 1., 2., 2.])"
            ]
          },
          "execution_count": 46,
          "metadata": {},
          "output_type": "execute_result"
        }
      ],
      "source": [
        "def compute_depth(tree_clf):\n",
        "    tree = tree_clf.tree_\n",
        "    depth = np.zeros(tree.node_count)\n",
        "    stack = [(0, 0)]\n",
        "    while stack:\n",
        "        node, node_depth = stack.pop()\n",
        "        depth[node] = node_depth\n",
        "        if tree.children_left[node] != tree.children_right[node]:\n",
        "            stack.append((tree.children_left[node], node_depth + 1))\n",
        "            stack.append((tree.children_right[node], node_depth + 1))\n",
        "    return depth\n",
        "\n",
        "depth = compute_depth(tree_clf)\n",
        "depth"
      ]
    },
    {
      "cell_type": "markdown",
      "metadata": {
        "id": "ZFyeZbxZTKOD"
      },
      "source": [
        "Here's how to get the thresholds of all split nodes at depth 1:"
      ]
    },
    {
      "cell_type": "code",
      "execution_count": null,
      "metadata": {
        "id": "6-W3iKdlTKOD",
        "outputId": "a363fe89-e151-4a05-d7ab-ca5734b83806"
      },
      "outputs": [
        {
          "data": {
            "text/plain": [
              "array([1], dtype=int64)"
            ]
          },
          "execution_count": 47,
          "metadata": {},
          "output_type": "execute_result"
        }
      ],
      "source": [
        "tree_clf.tree_.feature[(depth == 1) & (~is_leaf)]"
      ]
    },
    {
      "cell_type": "code",
      "execution_count": null,
      "metadata": {
        "id": "oXQSPT8OTKOE",
        "outputId": "692a580e-67db-45b0-a2d5-331520881e0e"
      },
      "outputs": [
        {
          "data": {
            "text/plain": [
              "array([1.75])"
            ]
          },
          "execution_count": 48,
          "metadata": {},
          "output_type": "execute_result"
        }
      ],
      "source": [
        "tree_clf.tree_.threshold[(depth == 1) & (~is_leaf)]"
      ]
    },
    {
      "cell_type": "markdown",
      "metadata": {
        "id": "NvfWTuGvTKOE"
      },
      "source": [
        "# Exercise solutions"
      ]
    },
    {
      "cell_type": "markdown",
      "metadata": {
        "id": "O8sWmyleTKOE"
      },
      "source": [
        "## 1. to 6."
      ]
    },
    {
      "cell_type": "markdown",
      "metadata": {
        "id": "UW9YVusbTKOF"
      },
      "source": [
        "1. The depth of a well-balanced binary tree containing _m_ leaves is equal to log₂(_m_), rounded up. log₂ is the binary log; log₂(_m_) = log(_m_) / log(2). A binary Decision Tree (one that makes only binary decisions, as is the case with all trees in Scikit-Learn) will end up more or less well balanced at the end of training, with one leaf per training instance if it is trained without restrictions. Thus, if the training set contains one million instances, the Decision Tree will have a depth of log₂(10<sup>6</sup>) ≈ 20 (actually a bit more since the tree will generally not be perfectly well balanced).\n",
        "2. A node's Gini impurity is generally lower than its parent's. This is due to the CART training algorithm's cost function, which splits each node in a way that minimizes the weighted sum of its children's Gini impurities. However, it is possible for a node to have a higher Gini impurity than its parent, as long as this increase is more than compensated for by a decrease in the other child's impurity. For example, consider a node containing four instances of class A and one of class B. Its Gini impurity is 1 – (1/5)² – (4/5)² = 0.32. Now suppose the dataset is one-dimensional and the instances are lined up in the following order: A, B, A, A, A. You can verify that the algorithm will split this node after the second instance, producing one child node with instances A, B, and the other child node with instances A, A, A. The first child node's Gini impurity is 1 – (1/2)² – (1/2)² = 0.5, which is higher than its parent's. This is compensated for by the fact that the other node is pure, so its overall weighted Gini impurity is 2/5 × 0.5 + 3/5 × 0 = 0.2, which is lower than the parent's Gini impurity.\n",
        "3. If a Decision Tree is overfitting the training set, it may be a good idea to decrease `max_depth`, since this will constrain the model, regularizing it.\n",
        "4. Decision Trees don't care whether or not the training data is scaled or centered; that's one of the nice things about them. So if a Decision Tree underfits the training set, scaling the input features will just be a waste of time.\n",
        "5. The computational complexity of training a Decision Tree is _O_(_n_ × _m_ log₂(_m_)). So if you multiply the training set size by 10, the training time will be multiplied by _K_ = (_n_ × 10 _m_ × log₂(10 _m_)) / (_n_ × _m_ × log₂(_m_)) = 10 × log₂(10 _m_) / log₂(_m_). If _m_ = 10<sup>6</sup>, then _K_ ≈ 11.7, so you can expect the training time to be roughly 11.7 hours.\n",
        "6. If the number of features doubles, then the training time will also roughly double."
      ]
    },
    {
      "cell_type": "markdown",
      "metadata": {
        "id": "dFcJN0SnTKOF"
      },
      "source": [
        "## 7."
      ]
    },
    {
      "cell_type": "markdown",
      "metadata": {
        "id": "v4qz__ipTKOG"
      },
      "source": [
        "_Exercise: train and fine-tune a Decision Tree for the moons dataset._"
      ]
    },
    {
      "cell_type": "markdown",
      "metadata": {
        "id": "9e2bXpsMTKOG"
      },
      "source": [
        "a. Generate a moons dataset using `make_moons(n_samples=10000, noise=0.4)`."
      ]
    },
    {
      "cell_type": "markdown",
      "metadata": {
        "id": "RlYZ-b0wTKOG"
      },
      "source": [
        "Adding `random_state=42` to make this notebook's output constant:"
      ]
    },
    {
      "cell_type": "code",
      "execution_count": null,
      "metadata": {
        "id": "9GLDYgsNTKOG"
      },
      "outputs": [],
      "source": [
        "from sklearn.datasets import make_moons\n",
        "\n",
        "X_moons, y_moons = make_moons(n_samples=10000, noise=0.4, random_state=42)"
      ]
    },
    {
      "cell_type": "markdown",
      "metadata": {
        "id": "7ELuGqkNTKOH"
      },
      "source": [
        "b. Split it into a training set and a test set using `train_test_split()`."
      ]
    },
    {
      "cell_type": "code",
      "execution_count": null,
      "metadata": {
        "id": "yP51qS3HTKOH"
      },
      "outputs": [],
      "source": [
        "from sklearn.model_selection import train_test_split\n",
        "\n",
        "X_train, X_test, y_train, y_test = train_test_split(X_moons, y_moons,\n",
        "                                                    test_size=0.2,\n",
        "                                                    random_state=42)"
      ]
    },
    {
      "cell_type": "markdown",
      "metadata": {
        "id": "TTfKug5ZTKOH"
      },
      "source": [
        "c. Use grid search with cross-validation (with the help of the `GridSearchCV` class) to find good hyperparameter values for a `DecisionTreeClassifier`. Hint: try various values for `max_leaf_nodes`."
      ]
    },
    {
      "cell_type": "code",
      "execution_count": null,
      "metadata": {
        "id": "13eelwlpTKOI",
        "outputId": "573a291b-07d9-4586-9e0b-2d2715026516"
      },
      "outputs": [
        {
          "data": {
            "text/plain": [
              "GridSearchCV(cv=3, estimator=DecisionTreeClassifier(random_state=42),\n",
              "             param_grid={'max_depth': [1, 2, 3, 4, 5, 6],\n",
              "                         'max_leaf_nodes': [2, 3, 4, 5, 6, 7, 8, 9, 10, 11, 12,\n",
              "                                            13, 14, 15, 16, 17, 18, 19, 20, 21,\n",
              "                                            22, 23, 24, 25, 26, 27, 28, 29, 30,\n",
              "                                            31, ...],\n",
              "                         'min_samples_split': [2, 3, 4]})"
            ]
          },
          "execution_count": 51,
          "metadata": {},
          "output_type": "execute_result"
        }
      ],
      "source": [
        "from sklearn.model_selection import GridSearchCV\n",
        "\n",
        "params = {\n",
        "    'max_leaf_nodes': list(range(2, 100)),\n",
        "    'max_depth': list(range(1, 7)),\n",
        "    'min_samples_split': [2, 3, 4]\n",
        "}\n",
        "grid_search_cv = GridSearchCV(DecisionTreeClassifier(random_state=42),\n",
        "                              params,\n",
        "                              cv=3)\n",
        "\n",
        "grid_search_cv.fit(X_train, y_train)"
      ]
    },
    {
      "cell_type": "code",
      "execution_count": null,
      "metadata": {
        "id": "AYrxMmIgTKOI",
        "outputId": "32410fe2-1104-4eae-8798-f55888611f3d"
      },
      "outputs": [
        {
          "data": {
            "text/plain": [
              "DecisionTreeClassifier(max_depth=6, max_leaf_nodes=17, random_state=42)"
            ]
          },
          "execution_count": 52,
          "metadata": {},
          "output_type": "execute_result"
        }
      ],
      "source": [
        "grid_search_cv.best_estimator_"
      ]
    },
    {
      "cell_type": "markdown",
      "metadata": {
        "id": "aa2F6VF3TKOJ"
      },
      "source": [
        "d. Train it on the full training set using these hyperparameters, and measure your model's performance on the test set. You should get roughly 85% to 87% accuracy."
      ]
    },
    {
      "cell_type": "markdown",
      "metadata": {
        "id": "qa_0YaVGTKOJ"
      },
      "source": [
        "By default, `GridSearchCV` trains the best model found on the whole training set (you can change this by setting `refit=False`), so we don't need to do it again. We can simply evaluate the model's accuracy:"
      ]
    },
    {
      "cell_type": "code",
      "execution_count": null,
      "metadata": {
        "id": "bbsjrQ-MTKOK",
        "outputId": "1593b208-a614-4479-9163-829f3bc534ad"
      },
      "outputs": [
        {
          "data": {
            "text/plain": [
              "0.8595"
            ]
          },
          "execution_count": 53,
          "metadata": {},
          "output_type": "execute_result"
        }
      ],
      "source": [
        "from sklearn.metrics import accuracy_score\n",
        "\n",
        "y_pred = grid_search_cv.predict(X_test)\n",
        "accuracy_score(y_test, y_pred)"
      ]
    },
    {
      "cell_type": "markdown",
      "metadata": {
        "id": "72ObPHn8TKOL"
      },
      "source": [
        "## 8."
      ]
    },
    {
      "cell_type": "markdown",
      "metadata": {
        "id": "6-IVLexHTKOL"
      },
      "source": [
        "_Exercise: Grow a forest._"
      ]
    },
    {
      "cell_type": "markdown",
      "metadata": {
        "id": "EDqiqI7hTKOL"
      },
      "source": [
        "a. Continuing the previous exercise, generate 1,000 subsets of the training set, each containing 100 instances selected randomly. Hint: you can use Scikit-Learn's `ShuffleSplit` class for this."
      ]
    },
    {
      "cell_type": "code",
      "execution_count": null,
      "metadata": {
        "id": "TR8UmgeKTKOM"
      },
      "outputs": [],
      "source": [
        "from sklearn.model_selection import ShuffleSplit\n",
        "\n",
        "n_trees = 1000\n",
        "n_instances = 100\n",
        "\n",
        "mini_sets = []\n",
        "\n",
        "rs = ShuffleSplit(n_splits=n_trees, test_size=len(X_train) - n_instances,\n",
        "                  random_state=42)\n",
        "\n",
        "for mini_train_index, mini_test_index in rs.split(X_train):\n",
        "    X_mini_train = X_train[mini_train_index]\n",
        "    y_mini_train = y_train[mini_train_index]\n",
        "    mini_sets.append((X_mini_train, y_mini_train))"
      ]
    },
    {
      "cell_type": "markdown",
      "metadata": {
        "id": "TEHQKi8pTKOM"
      },
      "source": [
        "b. Train one Decision Tree on each subset, using the best hyperparameter values found above. Evaluate these 1,000 Decision Trees on the test set. Since they were trained on smaller sets, these Decision Trees will likely perform worse than the first Decision Tree, achieving only about 80% accuracy."
      ]
    },
    {
      "cell_type": "code",
      "execution_count": null,
      "metadata": {
        "id": "e1KXnp6QTKOM",
        "outputId": "bde84076-6d8c-4182-fd3e-cb674ab18886"
      },
      "outputs": [
        {
          "data": {
            "text/plain": [
              "0.805671"
            ]
          },
          "execution_count": 55,
          "metadata": {},
          "output_type": "execute_result"
        }
      ],
      "source": [
        "from sklearn.base import clone\n",
        "\n",
        "forest = [clone(grid_search_cv.best_estimator_) for _ in range(n_trees)]\n",
        "\n",
        "accuracy_scores = []\n",
        "\n",
        "for tree, (X_mini_train, y_mini_train) in zip(forest, mini_sets):\n",
        "    tree.fit(X_mini_train, y_mini_train)\n",
        "\n",
        "    y_pred = tree.predict(X_test)\n",
        "    accuracy_scores.append(accuracy_score(y_test, y_pred))\n",
        "\n",
        "np.mean(accuracy_scores)"
      ]
    },
    {
      "cell_type": "markdown",
      "metadata": {
        "id": "S1fMY_3KTKOM"
      },
      "source": [
        "c. Now comes the magic. For each test set instance, generate the predictions of the 1,000 Decision Trees, and keep only the most frequent prediction (you can use SciPy's `mode()` function for this). This gives you _majority-vote predictions_ over the test set."
      ]
    },
    {
      "cell_type": "code",
      "execution_count": null,
      "metadata": {
        "id": "73fvrFDqTKON"
      },
      "outputs": [],
      "source": [
        "Y_pred = np.empty([n_trees, len(X_test)], dtype=np.uint8)\n",
        "\n",
        "for tree_index, tree in enumerate(forest):\n",
        "    Y_pred[tree_index] = tree.predict(X_test)"
      ]
    },
    {
      "cell_type": "code",
      "execution_count": null,
      "metadata": {
        "id": "uMsVMOAnTKON"
      },
      "outputs": [],
      "source": [
        "from scipy.stats import mode\n",
        "\n",
        "y_pred_majority_votes, n_votes = mode(Y_pred, axis=0)"
      ]
    },
    {
      "cell_type": "markdown",
      "metadata": {
        "id": "aLO8rMsCTKOO"
      },
      "source": [
        "d. Evaluate these predictions on the test set: you should obtain a slightly higher accuracy than your first model (about 0.5 to 1.5% higher). Congratulations, you have trained a Random Forest classifier!"
      ]
    },
    {
      "cell_type": "code",
      "execution_count": null,
      "metadata": {
        "id": "Q7gAYbfpTKOO",
        "outputId": "190ad456-d056-4440-897a-d8fed753bc36"
      },
      "outputs": [
        {
          "data": {
            "text/plain": [
              "0.873"
            ]
          },
          "execution_count": 58,
          "metadata": {},
          "output_type": "execute_result"
        }
      ],
      "source": [
        "accuracy_score(y_test, y_pred_majority_votes.reshape([-1]))"
      ]
    },
    {
      "cell_type": "code",
      "execution_count": null,
      "metadata": {
        "id": "PHagCaQFTKOO"
      },
      "outputs": [],
      "source": []
    }
  ],
  "metadata": {
    "kernelspec": {
      "display_name": "Python 3",
      "language": "python",
      "name": "python3"
    },
    "language_info": {
      "codemirror_mode": {
        "name": "ipython",
        "version": 3
      },
      "file_extension": ".py",
      "mimetype": "text/x-python",
      "name": "python",
      "nbconvert_exporter": "python",
      "pygments_lexer": "ipython3",
      "version": "3.10.6"
    },
    "nav_menu": {
      "height": "309px",
      "width": "468px"
    },
    "toc": {
      "navigate_menu": true,
      "number_sections": true,
      "sideBar": true,
      "threshold": 6,
      "toc_cell": false,
      "toc_section_display": "block",
      "toc_window_display": false
    },
    "colab": {
      "provenance": [],
      "include_colab_link": true
    }
  },
  "nbformat": 4,
  "nbformat_minor": 0
}